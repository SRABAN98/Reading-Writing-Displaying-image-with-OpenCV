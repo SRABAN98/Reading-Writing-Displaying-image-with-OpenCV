{
 "cells": [
  {
   "cell_type": "markdown",
   "id": "5f9c2c17",
   "metadata": {},
   "source": [
    "# Reading, Writing and Displaying Images with OpenCV"
   ]
  },
  {
   "cell_type": "markdown",
   "id": "638cc73d",
   "metadata": {},
   "source": [
    "Let's start by importing the OpenCV library"
   ]
  },
  {
   "cell_type": "code",
   "execution_count": 1,
   "id": "9da0186b",
   "metadata": {},
   "outputs": [],
   "source": [
    "import cv2"
   ]
  },
  {
   "cell_type": "code",
   "execution_count": 2,
   "id": "a147cfe4",
   "metadata": {},
   "outputs": [],
   "source": [
    "import numpy as np"
   ]
  },
  {
   "cell_type": "markdown",
   "id": "ab3964b2",
   "metadata": {},
   "source": [
    "Let's now load our first image"
   ]
  },
  {
   "cell_type": "code",
   "execution_count": 3,
   "id": "5b245e68",
   "metadata": {
    "scrolled": true
   },
   "outputs": [],
   "source": [
    "input = cv2.imread(r\"C:\\Users\\dell\\OneDrive\\Documents\\CNN\\Testing\\1.jpg\")\n",
    "cv2.imshow(\"MSD\",input)\n",
    "cv2.waitKey()\n",
    "cv2.destroyAllWindows()"
   ]
  },
  {
   "cell_type": "code",
   "execution_count": 4,
   "id": "42bec756",
   "metadata": {},
   "outputs": [],
   "source": [
    "input1 = cv2.imread(r\"C:\\Users\\dell\\OneDrive\\Documents\\CNN\\Testing\\4.jpg\")\n",
    "cv2.imshow(\"Mahi\",input1)\n",
    "cv2.waitKey()\n",
    "cv2.destroyAllWindows()"
   ]
  },
  {
   "cell_type": "markdown",
   "id": "af7aed5c",
   "metadata": {},
   "source": [
    "Height and Weight of the Images"
   ]
  },
  {
   "cell_type": "code",
   "execution_count": 5,
   "id": "ab3b39fd",
   "metadata": {},
   "outputs": [
    {
     "name": "stdout",
     "output_type": "stream",
     "text": [
      "Height of Image: 168 pixels\n",
      "Width of Image: 300 pixels\n"
     ]
    }
   ],
   "source": [
    "print(\"Height of Image:\", int(input.shape[0]),\"pixels\")\n",
    "print(\"Width of Image:\", int(input.shape[1]),\"pixels\")"
   ]
  },
  {
   "cell_type": "code",
   "execution_count": 6,
   "id": "478abcaf",
   "metadata": {},
   "outputs": [
    {
     "name": "stdout",
     "output_type": "stream",
     "text": [
      "Height of Image: 168 pixels\n",
      "Width of Image: 300 pixels\n"
     ]
    }
   ],
   "source": [
    "print(\"Height of Image:\", int(input1.shape[0]),\"pixels\")\n",
    "print(\"Width of Image:\", int(input1.shape[1]),\"pixels\")"
   ]
  },
  {
   "cell_type": "markdown",
   "id": "6be2cba7",
   "metadata": {},
   "source": [
    "Save Images as .png Format"
   ]
  },
  {
   "cell_type": "code",
   "execution_count": 7,
   "id": "a92a4268",
   "metadata": {},
   "outputs": [
    {
     "data": {
      "text/plain": [
       "True"
      ]
     },
     "execution_count": 7,
     "metadata": {},
     "output_type": "execute_result"
    }
   ],
   "source": [
    "cv2.imwrite(\"output.jpg\",input)"
   ]
  },
  {
   "cell_type": "code",
   "execution_count": 8,
   "id": "21a7a07d",
   "metadata": {},
   "outputs": [
    {
     "data": {
      "text/plain": [
       "True"
      ]
     },
     "execution_count": 8,
     "metadata": {},
     "output_type": "execute_result"
    }
   ],
   "source": [
    "cv2.imwrite(\"output.png\",input)"
   ]
  },
  {
   "cell_type": "code",
   "execution_count": null,
   "id": "c6ee579b",
   "metadata": {},
   "outputs": [],
   "source": []
  }
 ],
 "metadata": {
  "kernelspec": {
   "display_name": "Python 3 (ipykernel)",
   "language": "python",
   "name": "python3"
  },
  "language_info": {
   "codemirror_mode": {
    "name": "ipython",
    "version": 3
   },
   "file_extension": ".py",
   "mimetype": "text/x-python",
   "name": "python",
   "nbconvert_exporter": "python",
   "pygments_lexer": "ipython3",
   "version": "3.10.6"
  }
 },
 "nbformat": 4,
 "nbformat_minor": 5
}
